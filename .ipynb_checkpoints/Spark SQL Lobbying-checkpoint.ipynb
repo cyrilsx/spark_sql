{
 "cells": [
  {
   "cell_type": "markdown",
   "metadata": {},
   "source": [
    "Spark SQL\n",
    "---\n",
    "\n",
    "Let's dicovery EU lobbying."
   ]
  },
  {
   "cell_type": "code",
   "execution_count": 16,
   "metadata": {},
   "outputs": [
    {
     "name": "stdout",
     "output_type": "stream",
     "text": [
      "+-----+-----+--------------------+------+--------+--------------------+\n",
      "|count|limit|                next|offset|previous|             results|\n",
      "+-----+-----+--------------------+------+--------+--------------------+\n",
      "|36713|   50|http://api.lobbyf...|     0|   false|[[2015-12-05T00:5...|\n",
      "+-----+-----+--------------------+------+--------+--------------------+\n",
      "\n"
     ]
    }
   ],
   "source": [
    "from pyspark.sql import SparkSession\n",
    "\n",
    "spark = SparkSession.builder \\\n",
    "    .appName(\"Lobbying in EU\") \\\n",
    "    .getOrCreate()\n",
    "    \n",
    "df = spark.read.json(\"ds/person.json\")\n",
    "df.show()"
   ]
  },
  {
   "cell_type": "code",
   "execution_count": 17,
   "metadata": {},
   "outputs": [
    {
     "name": "stdout",
     "output_type": "stream",
     "text": [
      "root\n",
      " |-- results: array (nullable = true)\n",
      " |    |-- element: struct (containsNull = true)\n",
      " |    |    |-- created_at: string (nullable = true)\n",
      " |    |    |-- entity: string (nullable = true)\n",
      " |    |    |-- first_name: string (nullable = true)\n",
      " |    |    |-- id: string (nullable = true)\n",
      " |    |    |-- last_name: string (nullable = true)\n",
      " |    |    |-- name: string (nullable = true)\n",
      " |    |    |-- position: string (nullable = true)\n",
      " |    |    |-- status: string (nullable = true)\n",
      " |    |    |-- title: string (nullable = true)\n",
      " |    |    |-- updated_at: string (nullable = true)\n",
      " |    |    |-- uri: string (nullable = true)\n",
      "\n"
     ]
    }
   ],
   "source": [
    "sqlDF.printSchema()"
   ]
  },
  {
   "cell_type": "code",
   "execution_count": 18,
   "metadata": {},
   "outputs": [
    {
     "name": "stdout",
     "output_type": "stream",
     "text": [
      "+-----+-----+--------------------+------+--------+--------------------+\n",
      "|count|limit|                next|offset|previous|             results|\n",
      "+-----+-----+--------------------+------+--------+--------------------+\n",
      "|36713|   50|http://api.lobbyf...|     0|   false|[[2015-12-05T00:5...|\n",
      "+-----+-----+--------------------+------+--------+--------------------+\n",
      "\n"
     ]
    }
   ],
   "source": [
    "df.createOrReplaceTempView(\"person_lob\")\n",
    "\n",
    "sqlDF = spark.sql(\"SELECT * FROM person_lob\")\n",
    "sqlDF.show()"
   ]
  },
  {
   "cell_type": "markdown",
   "metadata": {},
   "source": [
    "Nested element\n",
    "---\n"
   ]
  },
  {
   "cell_type": "code",
   "execution_count": 19,
   "metadata": {},
   "outputs": [
    {
     "name": "stdout",
     "output_type": "stream",
     "text": [
      "root\n",
      " |-- results: array (nullable = true)\n",
      " |    |-- element: struct (containsNull = true)\n",
      " |    |    |-- created_at: string (nullable = true)\n",
      " |    |    |-- entity: string (nullable = true)\n",
      " |    |    |-- first_name: string (nullable = true)\n",
      " |    |    |-- id: string (nullable = true)\n",
      " |    |    |-- last_name: string (nullable = true)\n",
      " |    |    |-- name: string (nullable = true)\n",
      " |    |    |-- position: string (nullable = true)\n",
      " |    |    |-- status: string (nullable = true)\n",
      " |    |    |-- title: string (nullable = true)\n",
      " |    |    |-- updated_at: string (nullable = true)\n",
      " |    |    |-- uri: string (nullable = true)\n",
      "\n"
     ]
    }
   ],
   "source": [
    "result = df.select(\"results\")\n",
    "result.printSchema()"
   ]
  },
  {
   "cell_type": "code",
   "execution_count": 23,
   "metadata": {},
   "outputs": [
    {
     "name": "stdout",
     "output_type": "stream",
     "text": [
      "root\n",
      " |-- name: array (nullable = true)\n",
      " |    |-- element: string (containsNull = true)\n",
      "\n",
      "+--------------------+\n",
      "|                name|\n",
      "+--------------------+\n",
      "|[Lasse Hamilton H...|\n",
      "+--------------------+\n",
      "\n"
     ]
    }
   ],
   "source": [
    "appName = result.select(\"results.name\", \"results.last_name\")\n",
    "# appName.registerTempTable(\"person\")\n",
    "appName.printSchema();\n",
    "appName.show();\n"
   ]
  },
  {
   "cell_type": "code",
   "execution_count": null,
   "metadata": {},
   "outputs": [],
   "source": []
  },
  {
   "cell_type": "code",
   "execution_count": null,
   "metadata": {},
   "outputs": [],
   "source": []
  }
 ],
 "metadata": {
  "kernelspec": {
   "display_name": "Python 3",
   "language": "python",
   "name": "python3"
  },
  "language_info": {
   "codemirror_mode": {
    "name": "ipython",
    "version": 3
   },
   "file_extension": ".py",
   "mimetype": "text/x-python",
   "name": "python",
   "nbconvert_exporter": "python",
   "pygments_lexer": "ipython3",
   "version": "3.6.4"
  }
 },
 "nbformat": 4,
 "nbformat_minor": 2
}
